{
 "cells": [
  {
   "cell_type": "code",
   "execution_count": 1,
   "id": "bc69ed7d",
   "metadata": {},
   "outputs": [],
   "source": [
    "import cv2\n",
    "import torch\n",
    "from PIL import Image, ImageDraw, ImageFont\n",
    "import matplotlib.pyplot as plt\n",
    "import seaborn as sns\n",
    "import pandas as pd\n",
    "import matplotlib\n",
    "import numpy as np\n",
    "import os\n",
    "from tqdm import tqdm"
   ]
  },
  {
   "cell_type": "code",
   "execution_count": 12,
   "id": "b523a466",
   "metadata": {},
   "outputs": [],
   "source": [
    "p=[]\n",
    "path=\"datasets\\imgs\"\n",
    "list_dir=os.listdir(path)\n",
    "for i in list_dir:\n",
    "    a=i.split(\".\")[1]\n",
    "    if a==\"JPG\":\n",
    "        os.rename(os.path.join(path,i),os.path.join(path,i).split(\".\")[0]+\".jpg\")\n",
    "    elif a==\"PNG\":\n",
    "        os.rename(os.path.join(path,i),os.path.join(path,i).split(\".\")[0]+\".png\")"
   ]
  },
  {
   "cell_type": "code",
   "execution_count": 15,
   "id": "71e7b9cc",
   "metadata": {},
   "outputs": [],
   "source": [
    "p=[]\n",
    "path=\"datasets\\imgs\"\n",
    "list_dir=os.listdir(path)\n",
    "for i in list_dir:\n",
    "    a=i.split(\".\")[1]\n",
    "    if  a==\"JPG\" or a==\"PNG\":\n",
    "        p.append(os.path.join(path,i))"
   ]
  },
  {
   "cell_type": "code",
   "execution_count": null,
   "id": "16709cea",
   "metadata": {},
   "outputs": [],
   "source": []
  }
 ],
 "metadata": {
  "kernelspec": {
   "display_name": "Python 3",
   "language": "python",
   "name": "python3"
  },
  "language_info": {
   "codemirror_mode": {
    "name": "ipython",
    "version": 3
   },
   "file_extension": ".py",
   "mimetype": "text/x-python",
   "name": "python",
   "nbconvert_exporter": "python",
   "pygments_lexer": "ipython3",
   "version": "3.7.4"
  },
  "toc": {
   "base_numbering": 1,
   "nav_menu": {},
   "number_sections": true,
   "sideBar": true,
   "skip_h1_title": false,
   "title_cell": "Table of Contents",
   "title_sidebar": "Contents",
   "toc_cell": false,
   "toc_position": {},
   "toc_section_display": true,
   "toc_window_display": false
  }
 },
 "nbformat": 4,
 "nbformat_minor": 5
}
