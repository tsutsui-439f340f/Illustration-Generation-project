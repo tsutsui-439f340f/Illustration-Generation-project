{
 "cells": [
  {
   "cell_type": "code",
   "execution_count": 1,
   "id": "22956d93",
   "metadata": {},
   "outputs": [],
   "source": [
    "import cv2\n",
    "import torch\n",
    "from PIL import Image, ImageDraw, ImageFont\n",
    "import matplotlib.pyplot as plt\n",
    "import seaborn as sns\n",
    "import pandas as pd\n",
    "import matplotlib\n",
    "import numpy as np\n",
    "import os\n",
    "from tqdm import tqdm"
   ]
  },
  {
   "cell_type": "code",
   "execution_count": 2,
   "id": "e8ff4699",
   "metadata": {},
   "outputs": [],
   "source": [
    "p=[]\n",
    "path=\"face-extraction_aug/\"\n",
    "list_dir=os.listdir(path)"
   ]
  },
  {
   "cell_type": "code",
   "execution_count": 5,
   "id": "9e065355",
   "metadata": {},
   "outputs": [],
   "source": [
    "c=\"flip\"\n",
    "for i in list_dir:\n",
    "    img=cv2.imread(os.path.join(path,i))\n",
    "    if not img is None:\n",
    "        img_flip_lr = cv2.flip(img, 1)\n",
    "        cv2.imwrite(os.path.join(path,\"{}.png\".format(i.split(\".\")[0]+\"_\"+c)), img_flip_lr)"
   ]
  },
  {
   "cell_type": "code",
   "execution_count": null,
   "id": "7ca120ef",
   "metadata": {},
   "outputs": [],
   "source": []
  }
 ],
 "metadata": {
  "kernelspec": {
   "display_name": "Python 3",
   "language": "python",
   "name": "python3"
  },
  "language_info": {
   "codemirror_mode": {
    "name": "ipython",
    "version": 3
   },
   "file_extension": ".py",
   "mimetype": "text/x-python",
   "name": "python",
   "nbconvert_exporter": "python",
   "pygments_lexer": "ipython3",
   "version": "3.7.4"
  },
  "toc": {
   "base_numbering": 1,
   "nav_menu": {},
   "number_sections": true,
   "sideBar": true,
   "skip_h1_title": false,
   "title_cell": "Table of Contents",
   "title_sidebar": "Contents",
   "toc_cell": false,
   "toc_position": {},
   "toc_section_display": true,
   "toc_window_display": false
  }
 },
 "nbformat": 4,
 "nbformat_minor": 5
}
