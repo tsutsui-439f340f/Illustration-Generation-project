{
 "cells": [
  {
   "cell_type": "code",
   "execution_count": 1,
   "metadata": {},
   "outputs": [
    {
     "name": "stderr",
     "output_type": "stream",
     "text": [
      "C:\\Users\\tsutsui riku\\Anaconda3\\lib\\site-packages\\numpy\\_distributor_init.py:32: UserWarning: loaded more than 1 DLL from .libs:\n",
      "C:\\Users\\tsutsui riku\\Anaconda3\\lib\\site-packages\\numpy\\.libs\\libopenblas.PYQHXLVVQ7VESDPUVUADXEVJOBGHJPAY.gfortran-win_amd64.dll\n",
      "C:\\Users\\tsutsui riku\\Anaconda3\\lib\\site-packages\\numpy\\.libs\\libopenblas.wcdjnk7yvmpzq2me2zzhjjrj3jikndb7.gfortran-win_amd64.dll\n",
      "  stacklevel=1)\n"
     ]
    }
   ],
   "source": [
    "import cv2\n",
    "import torch\n",
    "from PIL import Image, ImageDraw, ImageFont\n",
    "import matplotlib.pyplot as plt\n",
    "import seaborn as sns\n",
    "import pandas as pd\n",
    "import matplotlib\n",
    "import numpy as np\n",
    "import os\n",
    "from tqdm import tqdm\n",
    "import cv2\n",
    "from PIL import Image, ImageDraw, ImageFont\n",
    "import matplotlib.pyplot as plt\n",
    "import torch\n",
    "from torchvision import models, transforms\n",
    "import numpy as np\n",
    "from scipy import spatial\n",
    "import seaborn as sns\n",
    "import os\n",
    "import copy\n",
    "import shutil\n",
    "import threading\n",
    "import queue\n",
    "from tqdm import tqdm\n",
    "device = torch.device(\"cuda:0\" if torch.cuda.is_available() else \"cpu\")"
   ]
  },
  {
   "cell_type": "code",
   "execution_count": 2,
   "metadata": {},
   "outputs": [],
   "source": [
    "p=[]\n",
    "path=\"face-extraction/\"\n",
    "list_dir=os.listdir(path)\n",
    "for i in list_dir:\n",
    "    a=i.split(\".\")[1]\n",
    "    if a==\"jpg\" or a==\"png\" or a==\"JPG\" or a==\"PNG\" or a==\"jfif\":\n",
    "        p.append(os.path.join(path,i))"
   ]
  },
  {
   "cell_type": "code",
   "execution_count": 5,
   "metadata": {
    "code_folding": []
   },
   "outputs": [
    {
     "name": "stderr",
     "output_type": "stream",
     "text": [
      "100%|██████████████████████████████████████████████████████████████████████████████| 9884/9884 [03:06<00:00, 53.00it/s]\n"
     ]
    }
   ],
   "source": [
    "size=256\n",
    "out=\"resize\"\n",
    "diff=[]\n",
    "for i in tqdm(p):\n",
    "    img=cv2.imread(i)\n",
    "    if img is None:\n",
    "        continue\n",
    "    w=img.shape[0]\n",
    "    h=img.shape[1]\n",
    "    if w>size and h>size:\n",
    "        diff.append(abs(w-h))\n",
    "        "
   ]
  },
  {
   "cell_type": "code",
   "execution_count": 7,
   "metadata": {},
   "outputs": [
    {
     "data": {
      "text/plain": [
       "(array([7.108e+03, 1.857e+03, 5.710e+02, 1.770e+02, 8.500e+01, 3.400e+01,\n",
       "        9.000e+00, 5.000e+00, 4.000e+00, 1.000e+00]),\n",
       " array([  0. ,  79.9, 159.8, 239.7, 319.6, 399.5, 479.4, 559.3, 639.2,\n",
       "        719.1, 799. ]),\n",
       " <a list of 10 Patch objects>)"
      ]
     },
     "execution_count": 7,
     "metadata": {},
     "output_type": "execute_result"
    },
    {
     "data": {
      "image/png": "[encoded data removed]",
      "text/plain": [
       "<Figure size 432x288 with 1 Axes>"
      ]
     },
     "metadata": {
      "needs_background": "light"
     },
     "output_type": "display_data"
    }
   ],
   "source": [
    "plt.hist(diff)"
   ]
  },
  {
   "cell_type": "code",
   "execution_count": 8,
   "metadata": {},
   "outputs": [],
   "source": [
    "diff=np.array(diff)"
   ]
  },
  {
   "cell_type": "code",
   "execution_count": 10,
   "metadata": {},
   "outputs": [
    {
     "data": {
      "text/plain": [
       "515"
      ]
     },
     "execution_count": 10,
     "metadata": {},
     "output_type": "execute_result"
    }
   ],
   "source": [
    "len(diff[diff>200])"
   ]
  },
  {
   "cell_type": "code",
   "execution_count": 47,
   "metadata": {},
   "outputs": [],
   "source": [
    "def resize(img):\n",
    "    d=img.shape[0]-img.shape[1]\n",
    "    sh=0\n",
    "    sw=0\n",
    "    eh=img.shape[0]\n",
    "    ew=img.shape[1]\n",
    "    \n",
    "    if d>0:\n",
    "        sh=d//2\n",
    "        eh=img.shape[0]-d//2\n",
    "        if eh!=img.shape[1]:\n",
    "            if eh+1==img.shape[1]:\n",
    "                eh+=1\n",
    "            else:\n",
    "                eh-=1\n",
    "    else:\n",
    "        sw=abs(d//2)\n",
    "        ew=img.shape[1]-abs(d//2)\n",
    "        if ew!=img.shape[0]:\n",
    "            if ew+1==img.shape[0]:\n",
    "                ew+=1\n",
    "            else:\n",
    "                ew-=1\n",
    "    return img[sh:eh,sw:ew]"
   ]
  },
  {
   "cell_type": "code",
   "execution_count": 50,
   "metadata": {},
   "outputs": [
    {
     "name": "stderr",
     "output_type": "stream",
     "text": [
      "100%|██████████████████████████████████████████████████████████████████████████████| 9884/9884 [04:21<00:00, 37.87it/s]\n"
     ]
    }
   ],
   "source": [
    "size=512\n",
    "out=\"resize_512\"\n",
    "os.mkdir(out)\n",
    "for i in tqdm(p):\n",
    "    img=cv2.imread(i)\n",
    "    if img is None:\n",
    "        continue\n",
    "    w=img.shape[0]\n",
    "    h=img.shape[1]\n",
    "    if w>size and h>size:\n",
    "        img=resize(img)\n",
    "        dst = cv2.resize(img, dsize=(size,size))\n",
    "        cv2.imwrite(os.path.join(out,i.split(\"/\")[1]),dst)"
   ]
  },
  {
   "cell_type": "code",
   "execution_count": null,
   "metadata": {},
   "outputs": [],
   "source": []
  }
 ],
 "metadata": {
  "kernelspec": {
   "display_name": "Python 3",
   "language": "python",
   "name": "python3"
  },
  "language_info": {
   "codemirror_mode": {
    "name": "ipython",
    "version": 3
   },
   "file_extension": ".py",
   "mimetype": "text/x-python",
   "name": "python",
   "nbconvert_exporter": "python",
   "pygments_lexer": "ipython3",
   "version": "3.6.6"
  },
  "toc": {
   "base_numbering": 1,
   "nav_menu": {},
   "number_sections": true,
   "sideBar": true,
   "skip_h1_title": false,
   "title_cell": "Table of Contents",
   "title_sidebar": "Contents",
   "toc_cell": false,
   "toc_position": {},
   "toc_section_display": true,
   "toc_window_display": false
  }
 },
 "nbformat": 4,
 "nbformat_minor": 2
}
